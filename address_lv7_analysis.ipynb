{
 "cells": [
  {
   "cell_type": "code",
   "execution_count": 1,
   "metadata": {},
   "outputs": [],
   "source": [
    "import re\n",
    "import json"
   ]
  },
  {
   "cell_type": "code",
   "execution_count": 31,
   "metadata": {},
   "outputs": [],
   "source": [
    "def _analysis_lv7(s, _mks):\n",
    "    ret = []\n",
    "    for i in _mks:\n",
    "        ss = ''.join(re.findall('.*'+i, s))\n",
    "        if (ss!=''):\n",
    "            ret.append(ss)\n",
    "            s = s[s.find(ss)+len(ss):]\n",
    "    if (s!=''):\n",
    "        ret.append(s)\n",
    "    return ret"
   ]
  },
  {
   "cell_type": "code",
   "execution_count": 38,
   "metadata": {},
   "outputs": [
    {
     "name": "stdout",
     "output_type": "stream",
     "text": [
      "凤平路13号\n",
      "['凤平路', '13号']\n"
     ]
    }
   ],
   "source": [
    "s = input()\n",
    "_marks = ['路','号']\n",
    "result = _analysis_lv7(s, _marks)\n",
    "print(result)"
   ]
  },
  {
   "cell_type": "code",
   "execution_count": null,
   "metadata": {},
   "outputs": [],
   "source": []
  }
 ],
 "metadata": {
  "kernelspec": {
   "display_name": "Python 3",
   "language": "python",
   "name": "python3"
  },
  "language_info": {
   "codemirror_mode": {
    "name": "ipython",
    "version": 3
   },
   "file_extension": ".py",
   "mimetype": "text/x-python",
   "name": "python",
   "nbconvert_exporter": "python",
   "pygments_lexer": "ipython3",
   "version": "3.6.5"
  }
 },
 "nbformat": 4,
 "nbformat_minor": 2
}
